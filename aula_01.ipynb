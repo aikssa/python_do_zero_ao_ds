{
  "nbformat": 4,
  "nbformat_minor": 0,
  "metadata": {
    "colab": {
      "name": "aula_01.ipynb",
      "provenance": [],
      "collapsed_sections": [],
      "mount_file_id": "1Pm0ycjO6We2_KTAbKGUI4bloxC6sUDTR",
      "authorship_tag": "ABX9TyNdJXKmbhf3jHkbi6ACJDwi",
      "include_colab_link": true
    },
    "kernelspec": {
      "name": "python3",
      "display_name": "Python 3"
    }
  },
  "cells": [
    {
      "cell_type": "markdown",
      "metadata": {
        "id": "view-in-github",
        "colab_type": "text"
      },
      "source": [
        "<a href=\"https://colab.research.google.com/github/aikssa/python_do_zero_ao_ds/blob/main/aula_01.ipynb\" target=\"_parent\"><img src=\"https://colab.research.google.com/assets/colab-badge.svg\" alt=\"Open In Colab\"/></a>"
      ]
    },
    {
      "cell_type": "markdown",
      "metadata": {
        "id": "kALBz1PBMTyW"
      },
      "source": [
        "# Análise de preços de casas - Aula 01"
      ]
    },
    {
      "cell_type": "markdown",
      "metadata": {
        "id": "E-PqiC5CWsDF"
      },
      "source": [
        "# Importação das bibliotecas e dos dados"
      ]
    },
    {
      "cell_type": "code",
      "metadata": {
        "id": "-kNucZ7RV64U"
      },
      "source": [
        "# importando as bibliotecas necessárias\n",
        "import pandas as pd"
      ],
      "execution_count": 1,
      "outputs": []
    },
    {
      "cell_type": "code",
      "metadata": {
        "colab": {
          "base_uri": "https://localhost:8080/",
          "height": 224
        },
        "id": "fYLkb10xWX8B",
        "outputId": "18496423-e84d-4a36-e4d6-59ac06e1f897"
      },
      "source": [
        "# carregando o dataset\n",
        "df = pd.read_csv('/content/drive/MyDrive/repos/python_zero_ds/datasets/kc_house_data.csv')\n",
        "\n",
        "# verificando as 5 primeiras linhas do dataframe\n",
        "df.head()"
      ],
      "execution_count": 2,
      "outputs": [
        {
          "output_type": "execute_result",
          "data": {
            "text/html": [
              "<div>\n",
              "<style scoped>\n",
              "    .dataframe tbody tr th:only-of-type {\n",
              "        vertical-align: middle;\n",
              "    }\n",
              "\n",
              "    .dataframe tbody tr th {\n",
              "        vertical-align: top;\n",
              "    }\n",
              "\n",
              "    .dataframe thead th {\n",
              "        text-align: right;\n",
              "    }\n",
              "</style>\n",
              "<table border=\"1\" class=\"dataframe\">\n",
              "  <thead>\n",
              "    <tr style=\"text-align: right;\">\n",
              "      <th></th>\n",
              "      <th>id</th>\n",
              "      <th>date</th>\n",
              "      <th>price</th>\n",
              "      <th>bedrooms</th>\n",
              "      <th>bathrooms</th>\n",
              "      <th>sqft_living</th>\n",
              "      <th>sqft_lot</th>\n",
              "      <th>floors</th>\n",
              "      <th>waterfront</th>\n",
              "      <th>view</th>\n",
              "      <th>condition</th>\n",
              "      <th>grade</th>\n",
              "      <th>sqft_above</th>\n",
              "      <th>sqft_basement</th>\n",
              "      <th>yr_built</th>\n",
              "      <th>yr_renovated</th>\n",
              "      <th>zipcode</th>\n",
              "      <th>lat</th>\n",
              "      <th>long</th>\n",
              "      <th>sqft_living15</th>\n",
              "      <th>sqft_lot15</th>\n",
              "    </tr>\n",
              "  </thead>\n",
              "  <tbody>\n",
              "    <tr>\n",
              "      <th>0</th>\n",
              "      <td>7129300520</td>\n",
              "      <td>20141013T000000</td>\n",
              "      <td>221900.0</td>\n",
              "      <td>3</td>\n",
              "      <td>1.00</td>\n",
              "      <td>1180</td>\n",
              "      <td>5650</td>\n",
              "      <td>1.0</td>\n",
              "      <td>0</td>\n",
              "      <td>0</td>\n",
              "      <td>3</td>\n",
              "      <td>7</td>\n",
              "      <td>1180</td>\n",
              "      <td>0</td>\n",
              "      <td>1955</td>\n",
              "      <td>0</td>\n",
              "      <td>98178</td>\n",
              "      <td>47.5112</td>\n",
              "      <td>-122.257</td>\n",
              "      <td>1340</td>\n",
              "      <td>5650</td>\n",
              "    </tr>\n",
              "    <tr>\n",
              "      <th>1</th>\n",
              "      <td>6414100192</td>\n",
              "      <td>20141209T000000</td>\n",
              "      <td>538000.0</td>\n",
              "      <td>3</td>\n",
              "      <td>2.25</td>\n",
              "      <td>2570</td>\n",
              "      <td>7242</td>\n",
              "      <td>2.0</td>\n",
              "      <td>0</td>\n",
              "      <td>0</td>\n",
              "      <td>3</td>\n",
              "      <td>7</td>\n",
              "      <td>2170</td>\n",
              "      <td>400</td>\n",
              "      <td>1951</td>\n",
              "      <td>1991</td>\n",
              "      <td>98125</td>\n",
              "      <td>47.7210</td>\n",
              "      <td>-122.319</td>\n",
              "      <td>1690</td>\n",
              "      <td>7639</td>\n",
              "    </tr>\n",
              "    <tr>\n",
              "      <th>2</th>\n",
              "      <td>5631500400</td>\n",
              "      <td>20150225T000000</td>\n",
              "      <td>180000.0</td>\n",
              "      <td>2</td>\n",
              "      <td>1.00</td>\n",
              "      <td>770</td>\n",
              "      <td>10000</td>\n",
              "      <td>1.0</td>\n",
              "      <td>0</td>\n",
              "      <td>0</td>\n",
              "      <td>3</td>\n",
              "      <td>6</td>\n",
              "      <td>770</td>\n",
              "      <td>0</td>\n",
              "      <td>1933</td>\n",
              "      <td>0</td>\n",
              "      <td>98028</td>\n",
              "      <td>47.7379</td>\n",
              "      <td>-122.233</td>\n",
              "      <td>2720</td>\n",
              "      <td>8062</td>\n",
              "    </tr>\n",
              "    <tr>\n",
              "      <th>3</th>\n",
              "      <td>2487200875</td>\n",
              "      <td>20141209T000000</td>\n",
              "      <td>604000.0</td>\n",
              "      <td>4</td>\n",
              "      <td>3.00</td>\n",
              "      <td>1960</td>\n",
              "      <td>5000</td>\n",
              "      <td>1.0</td>\n",
              "      <td>0</td>\n",
              "      <td>0</td>\n",
              "      <td>5</td>\n",
              "      <td>7</td>\n",
              "      <td>1050</td>\n",
              "      <td>910</td>\n",
              "      <td>1965</td>\n",
              "      <td>0</td>\n",
              "      <td>98136</td>\n",
              "      <td>47.5208</td>\n",
              "      <td>-122.393</td>\n",
              "      <td>1360</td>\n",
              "      <td>5000</td>\n",
              "    </tr>\n",
              "    <tr>\n",
              "      <th>4</th>\n",
              "      <td>1954400510</td>\n",
              "      <td>20150218T000000</td>\n",
              "      <td>510000.0</td>\n",
              "      <td>3</td>\n",
              "      <td>2.00</td>\n",
              "      <td>1680</td>\n",
              "      <td>8080</td>\n",
              "      <td>1.0</td>\n",
              "      <td>0</td>\n",
              "      <td>0</td>\n",
              "      <td>3</td>\n",
              "      <td>8</td>\n",
              "      <td>1680</td>\n",
              "      <td>0</td>\n",
              "      <td>1987</td>\n",
              "      <td>0</td>\n",
              "      <td>98074</td>\n",
              "      <td>47.6168</td>\n",
              "      <td>-122.045</td>\n",
              "      <td>1800</td>\n",
              "      <td>7503</td>\n",
              "    </tr>\n",
              "  </tbody>\n",
              "</table>\n",
              "</div>"
            ],
            "text/plain": [
              "           id             date     price  ...     long  sqft_living15  sqft_lot15\n",
              "0  7129300520  20141013T000000  221900.0  ... -122.257           1340        5650\n",
              "1  6414100192  20141209T000000  538000.0  ... -122.319           1690        7639\n",
              "2  5631500400  20150225T000000  180000.0  ... -122.233           2720        8062\n",
              "3  2487200875  20141209T000000  604000.0  ... -122.393           1360        5000\n",
              "4  1954400510  20150218T000000  510000.0  ... -122.045           1800        7503\n",
              "\n",
              "[5 rows x 21 columns]"
            ]
          },
          "metadata": {
            "tags": []
          },
          "execution_count": 2
        }
      ]
    },
    {
      "cell_type": "markdown",
      "metadata": {
        "id": "KcsEMx6wk6aC"
      },
      "source": [
        "# Limpeza dos dados"
      ]
    },
    {
      "cell_type": "markdown",
      "metadata": {
        "id": "KqpOOGZfk_fo"
      },
      "source": [
        "Inicialmente vamos verificar a existência de dados duplicados, ou seja, aqueles com o mesmo `id`."
      ]
    },
    {
      "cell_type": "code",
      "metadata": {
        "id": "8zj9Q9WNk-ui",
        "colab": {
          "base_uri": "https://localhost:8080/"
        },
        "outputId": "40815748-d573-4a66-9a94-25ba76b19fc0"
      },
      "source": [
        "# verificando a quantidade de dados duplicados\n",
        "df['id'].duplicated().value_counts()"
      ],
      "execution_count": 3,
      "outputs": [
        {
          "output_type": "execute_result",
          "data": {
            "text/plain": [
              "False    21436\n",
              "True       177\n",
              "Name: id, dtype: int64"
            ]
          },
          "metadata": {
            "tags": []
          },
          "execution_count": 3
        }
      ]
    },
    {
      "cell_type": "markdown",
      "metadata": {
        "id": "Vma5ITh8lt_H"
      },
      "source": [
        "É possível verificar que existem 177 campos na coluna `id` que estão duplicados.\n",
        "\n",
        "Podemos supor que isso acontece em razão de uma atualização do preço, sem a exclusão do lançamento anterior. Isso pode ser comprovado pelos dois exemplos abaixo, onde apenas as colunas `date` e `price` estão diferentes."
      ]
    },
    {
      "cell_type": "code",
      "metadata": {
        "id": "2DhpWbvEnC86",
        "colab": {
          "base_uri": "https://localhost:8080/",
          "height": 224
        },
        "outputId": "d498b374-004d-49c6-c956-271c3e7f20b7"
      },
      "source": [
        "# verificando os campos duplicados para selecionarmos alguns exemplos\n",
        "df[df['id'].duplicated() == True].head()"
      ],
      "execution_count": 4,
      "outputs": [
        {
          "output_type": "execute_result",
          "data": {
            "text/html": [
              "<div>\n",
              "<style scoped>\n",
              "    .dataframe tbody tr th:only-of-type {\n",
              "        vertical-align: middle;\n",
              "    }\n",
              "\n",
              "    .dataframe tbody tr th {\n",
              "        vertical-align: top;\n",
              "    }\n",
              "\n",
              "    .dataframe thead th {\n",
              "        text-align: right;\n",
              "    }\n",
              "</style>\n",
              "<table border=\"1\" class=\"dataframe\">\n",
              "  <thead>\n",
              "    <tr style=\"text-align: right;\">\n",
              "      <th></th>\n",
              "      <th>id</th>\n",
              "      <th>date</th>\n",
              "      <th>price</th>\n",
              "      <th>bedrooms</th>\n",
              "      <th>bathrooms</th>\n",
              "      <th>sqft_living</th>\n",
              "      <th>sqft_lot</th>\n",
              "      <th>floors</th>\n",
              "      <th>waterfront</th>\n",
              "      <th>view</th>\n",
              "      <th>condition</th>\n",
              "      <th>grade</th>\n",
              "      <th>sqft_above</th>\n",
              "      <th>sqft_basement</th>\n",
              "      <th>yr_built</th>\n",
              "      <th>yr_renovated</th>\n",
              "      <th>zipcode</th>\n",
              "      <th>lat</th>\n",
              "      <th>long</th>\n",
              "      <th>sqft_living15</th>\n",
              "      <th>sqft_lot15</th>\n",
              "    </tr>\n",
              "  </thead>\n",
              "  <tbody>\n",
              "    <tr>\n",
              "      <th>94</th>\n",
              "      <td>6021501535</td>\n",
              "      <td>20141223T000000</td>\n",
              "      <td>700000.0</td>\n",
              "      <td>3</td>\n",
              "      <td>1.50</td>\n",
              "      <td>1580</td>\n",
              "      <td>5000</td>\n",
              "      <td>1.0</td>\n",
              "      <td>0</td>\n",
              "      <td>0</td>\n",
              "      <td>3</td>\n",
              "      <td>8</td>\n",
              "      <td>1290</td>\n",
              "      <td>290</td>\n",
              "      <td>1939</td>\n",
              "      <td>0</td>\n",
              "      <td>98117</td>\n",
              "      <td>47.6870</td>\n",
              "      <td>-122.386</td>\n",
              "      <td>1570</td>\n",
              "      <td>4500</td>\n",
              "    </tr>\n",
              "    <tr>\n",
              "      <th>314</th>\n",
              "      <td>4139480200</td>\n",
              "      <td>20141209T000000</td>\n",
              "      <td>1400000.0</td>\n",
              "      <td>4</td>\n",
              "      <td>3.25</td>\n",
              "      <td>4290</td>\n",
              "      <td>12103</td>\n",
              "      <td>1.0</td>\n",
              "      <td>0</td>\n",
              "      <td>3</td>\n",
              "      <td>3</td>\n",
              "      <td>11</td>\n",
              "      <td>2690</td>\n",
              "      <td>1600</td>\n",
              "      <td>1997</td>\n",
              "      <td>0</td>\n",
              "      <td>98006</td>\n",
              "      <td>47.5503</td>\n",
              "      <td>-122.102</td>\n",
              "      <td>3860</td>\n",
              "      <td>11244</td>\n",
              "    </tr>\n",
              "    <tr>\n",
              "      <th>325</th>\n",
              "      <td>7520000520</td>\n",
              "      <td>20150311T000000</td>\n",
              "      <td>240500.0</td>\n",
              "      <td>2</td>\n",
              "      <td>1.00</td>\n",
              "      <td>1240</td>\n",
              "      <td>12092</td>\n",
              "      <td>1.0</td>\n",
              "      <td>0</td>\n",
              "      <td>0</td>\n",
              "      <td>3</td>\n",
              "      <td>6</td>\n",
              "      <td>960</td>\n",
              "      <td>280</td>\n",
              "      <td>1922</td>\n",
              "      <td>1984</td>\n",
              "      <td>98146</td>\n",
              "      <td>47.4957</td>\n",
              "      <td>-122.352</td>\n",
              "      <td>1820</td>\n",
              "      <td>7460</td>\n",
              "    </tr>\n",
              "    <tr>\n",
              "      <th>346</th>\n",
              "      <td>3969300030</td>\n",
              "      <td>20141229T000000</td>\n",
              "      <td>239900.0</td>\n",
              "      <td>4</td>\n",
              "      <td>1.00</td>\n",
              "      <td>1000</td>\n",
              "      <td>7134</td>\n",
              "      <td>1.0</td>\n",
              "      <td>0</td>\n",
              "      <td>0</td>\n",
              "      <td>3</td>\n",
              "      <td>6</td>\n",
              "      <td>1000</td>\n",
              "      <td>0</td>\n",
              "      <td>1943</td>\n",
              "      <td>0</td>\n",
              "      <td>98178</td>\n",
              "      <td>47.4897</td>\n",
              "      <td>-122.240</td>\n",
              "      <td>1020</td>\n",
              "      <td>7138</td>\n",
              "    </tr>\n",
              "    <tr>\n",
              "      <th>372</th>\n",
              "      <td>2231500030</td>\n",
              "      <td>20150324T000000</td>\n",
              "      <td>530000.0</td>\n",
              "      <td>4</td>\n",
              "      <td>2.25</td>\n",
              "      <td>2180</td>\n",
              "      <td>10754</td>\n",
              "      <td>1.0</td>\n",
              "      <td>0</td>\n",
              "      <td>0</td>\n",
              "      <td>5</td>\n",
              "      <td>7</td>\n",
              "      <td>1100</td>\n",
              "      <td>1080</td>\n",
              "      <td>1954</td>\n",
              "      <td>0</td>\n",
              "      <td>98133</td>\n",
              "      <td>47.7711</td>\n",
              "      <td>-122.341</td>\n",
              "      <td>1810</td>\n",
              "      <td>6929</td>\n",
              "    </tr>\n",
              "  </tbody>\n",
              "</table>\n",
              "</div>"
            ],
            "text/plain": [
              "             id             date      price  ...     long  sqft_living15  sqft_lot15\n",
              "94   6021501535  20141223T000000   700000.0  ... -122.386           1570        4500\n",
              "314  4139480200  20141209T000000  1400000.0  ... -122.102           3860       11244\n",
              "325  7520000520  20150311T000000   240500.0  ... -122.352           1820        7460\n",
              "346  3969300030  20141229T000000   239900.0  ... -122.240           1020        7138\n",
              "372  2231500030  20150324T000000   530000.0  ... -122.341           1810        6929\n",
              "\n",
              "[5 rows x 21 columns]"
            ]
          },
          "metadata": {
            "tags": []
          },
          "execution_count": 4
        }
      ]
    },
    {
      "cell_type": "code",
      "metadata": {
        "id": "SiUHPPXpmhCa",
        "colab": {
          "base_uri": "https://localhost:8080/",
          "height": 131
        },
        "outputId": "ecbf2c09-9fb6-4530-9247-972d4187b2e8"
      },
      "source": [
        "# mostrando o primeiro exemplo\n",
        "df[df['id'] == 6021501535]"
      ],
      "execution_count": 5,
      "outputs": [
        {
          "output_type": "execute_result",
          "data": {
            "text/html": [
              "<div>\n",
              "<style scoped>\n",
              "    .dataframe tbody tr th:only-of-type {\n",
              "        vertical-align: middle;\n",
              "    }\n",
              "\n",
              "    .dataframe tbody tr th {\n",
              "        vertical-align: top;\n",
              "    }\n",
              "\n",
              "    .dataframe thead th {\n",
              "        text-align: right;\n",
              "    }\n",
              "</style>\n",
              "<table border=\"1\" class=\"dataframe\">\n",
              "  <thead>\n",
              "    <tr style=\"text-align: right;\">\n",
              "      <th></th>\n",
              "      <th>id</th>\n",
              "      <th>date</th>\n",
              "      <th>price</th>\n",
              "      <th>bedrooms</th>\n",
              "      <th>bathrooms</th>\n",
              "      <th>sqft_living</th>\n",
              "      <th>sqft_lot</th>\n",
              "      <th>floors</th>\n",
              "      <th>waterfront</th>\n",
              "      <th>view</th>\n",
              "      <th>condition</th>\n",
              "      <th>grade</th>\n",
              "      <th>sqft_above</th>\n",
              "      <th>sqft_basement</th>\n",
              "      <th>yr_built</th>\n",
              "      <th>yr_renovated</th>\n",
              "      <th>zipcode</th>\n",
              "      <th>lat</th>\n",
              "      <th>long</th>\n",
              "      <th>sqft_living15</th>\n",
              "      <th>sqft_lot15</th>\n",
              "    </tr>\n",
              "  </thead>\n",
              "  <tbody>\n",
              "    <tr>\n",
              "      <th>93</th>\n",
              "      <td>6021501535</td>\n",
              "      <td>20140725T000000</td>\n",
              "      <td>430000.0</td>\n",
              "      <td>3</td>\n",
              "      <td>1.5</td>\n",
              "      <td>1580</td>\n",
              "      <td>5000</td>\n",
              "      <td>1.0</td>\n",
              "      <td>0</td>\n",
              "      <td>0</td>\n",
              "      <td>3</td>\n",
              "      <td>8</td>\n",
              "      <td>1290</td>\n",
              "      <td>290</td>\n",
              "      <td>1939</td>\n",
              "      <td>0</td>\n",
              "      <td>98117</td>\n",
              "      <td>47.687</td>\n",
              "      <td>-122.386</td>\n",
              "      <td>1570</td>\n",
              "      <td>4500</td>\n",
              "    </tr>\n",
              "    <tr>\n",
              "      <th>94</th>\n",
              "      <td>6021501535</td>\n",
              "      <td>20141223T000000</td>\n",
              "      <td>700000.0</td>\n",
              "      <td>3</td>\n",
              "      <td>1.5</td>\n",
              "      <td>1580</td>\n",
              "      <td>5000</td>\n",
              "      <td>1.0</td>\n",
              "      <td>0</td>\n",
              "      <td>0</td>\n",
              "      <td>3</td>\n",
              "      <td>8</td>\n",
              "      <td>1290</td>\n",
              "      <td>290</td>\n",
              "      <td>1939</td>\n",
              "      <td>0</td>\n",
              "      <td>98117</td>\n",
              "      <td>47.687</td>\n",
              "      <td>-122.386</td>\n",
              "      <td>1570</td>\n",
              "      <td>4500</td>\n",
              "    </tr>\n",
              "  </tbody>\n",
              "</table>\n",
              "</div>"
            ],
            "text/plain": [
              "            id             date     price  ...     long  sqft_living15  sqft_lot15\n",
              "93  6021501535  20140725T000000  430000.0  ... -122.386           1570        4500\n",
              "94  6021501535  20141223T000000  700000.0  ... -122.386           1570        4500\n",
              "\n",
              "[2 rows x 21 columns]"
            ]
          },
          "metadata": {
            "tags": []
          },
          "execution_count": 5
        }
      ]
    },
    {
      "cell_type": "code",
      "metadata": {
        "id": "L_1Q0DtPnWWs",
        "colab": {
          "base_uri": "https://localhost:8080/",
          "height": 131
        },
        "outputId": "7eae168d-66e0-4cec-c8a8-3d578d540e78"
      },
      "source": [
        "# mostrando o segundo exemplo\n",
        "df[df['id'] == 3969300030]"
      ],
      "execution_count": 6,
      "outputs": [
        {
          "output_type": "execute_result",
          "data": {
            "text/html": [
              "<div>\n",
              "<style scoped>\n",
              "    .dataframe tbody tr th:only-of-type {\n",
              "        vertical-align: middle;\n",
              "    }\n",
              "\n",
              "    .dataframe tbody tr th {\n",
              "        vertical-align: top;\n",
              "    }\n",
              "\n",
              "    .dataframe thead th {\n",
              "        text-align: right;\n",
              "    }\n",
              "</style>\n",
              "<table border=\"1\" class=\"dataframe\">\n",
              "  <thead>\n",
              "    <tr style=\"text-align: right;\">\n",
              "      <th></th>\n",
              "      <th>id</th>\n",
              "      <th>date</th>\n",
              "      <th>price</th>\n",
              "      <th>bedrooms</th>\n",
              "      <th>bathrooms</th>\n",
              "      <th>sqft_living</th>\n",
              "      <th>sqft_lot</th>\n",
              "      <th>floors</th>\n",
              "      <th>waterfront</th>\n",
              "      <th>view</th>\n",
              "      <th>condition</th>\n",
              "      <th>grade</th>\n",
              "      <th>sqft_above</th>\n",
              "      <th>sqft_basement</th>\n",
              "      <th>yr_built</th>\n",
              "      <th>yr_renovated</th>\n",
              "      <th>zipcode</th>\n",
              "      <th>lat</th>\n",
              "      <th>long</th>\n",
              "      <th>sqft_living15</th>\n",
              "      <th>sqft_lot15</th>\n",
              "    </tr>\n",
              "  </thead>\n",
              "  <tbody>\n",
              "    <tr>\n",
              "      <th>345</th>\n",
              "      <td>3969300030</td>\n",
              "      <td>20140723T000000</td>\n",
              "      <td>165000.0</td>\n",
              "      <td>4</td>\n",
              "      <td>1.0</td>\n",
              "      <td>1000</td>\n",
              "      <td>7134</td>\n",
              "      <td>1.0</td>\n",
              "      <td>0</td>\n",
              "      <td>0</td>\n",
              "      <td>3</td>\n",
              "      <td>6</td>\n",
              "      <td>1000</td>\n",
              "      <td>0</td>\n",
              "      <td>1943</td>\n",
              "      <td>0</td>\n",
              "      <td>98178</td>\n",
              "      <td>47.4897</td>\n",
              "      <td>-122.24</td>\n",
              "      <td>1020</td>\n",
              "      <td>7138</td>\n",
              "    </tr>\n",
              "    <tr>\n",
              "      <th>346</th>\n",
              "      <td>3969300030</td>\n",
              "      <td>20141229T000000</td>\n",
              "      <td>239900.0</td>\n",
              "      <td>4</td>\n",
              "      <td>1.0</td>\n",
              "      <td>1000</td>\n",
              "      <td>7134</td>\n",
              "      <td>1.0</td>\n",
              "      <td>0</td>\n",
              "      <td>0</td>\n",
              "      <td>3</td>\n",
              "      <td>6</td>\n",
              "      <td>1000</td>\n",
              "      <td>0</td>\n",
              "      <td>1943</td>\n",
              "      <td>0</td>\n",
              "      <td>98178</td>\n",
              "      <td>47.4897</td>\n",
              "      <td>-122.24</td>\n",
              "      <td>1020</td>\n",
              "      <td>7138</td>\n",
              "    </tr>\n",
              "  </tbody>\n",
              "</table>\n",
              "</div>"
            ],
            "text/plain": [
              "             id             date     price  ...    long  sqft_living15  sqft_lot15\n",
              "345  3969300030  20140723T000000  165000.0  ... -122.24           1020        7138\n",
              "346  3969300030  20141229T000000  239900.0  ... -122.24           1020        7138\n",
              "\n",
              "[2 rows x 21 columns]"
            ]
          },
          "metadata": {
            "tags": []
          },
          "execution_count": 6
        }
      ]
    },
    {
      "cell_type": "markdown",
      "metadata": {
        "id": "TGepKbrJnjqt"
      },
      "source": [
        "Deste modo, iremos remover as linhas duplicadas, optando por deixar apenas a mais recente."
      ]
    },
    {
      "cell_type": "code",
      "metadata": {
        "id": "DH9_d1RRnoNM",
        "colab": {
          "base_uri": "https://localhost:8080/"
        },
        "outputId": "810227a3-5c75-487d-b90d-26544bfde8b4"
      },
      "source": [
        "# removendo as linhas duplicadas\n",
        "df.drop_duplicates(subset='id', keep='last', inplace=True)\n",
        "\n",
        "# verificando o resultado\n",
        "df.duplicated().value_counts()"
      ],
      "execution_count": 7,
      "outputs": [
        {
          "output_type": "execute_result",
          "data": {
            "text/plain": [
              "False    21436\n",
              "dtype: int64"
            ]
          },
          "metadata": {
            "tags": []
          },
          "execution_count": 7
        }
      ]
    },
    {
      "cell_type": "markdown",
      "metadata": {
        "id": "uXXEawGB0TTx"
      },
      "source": [
        "Note que agora não existem mais valores duplicados.\n",
        "\n",
        "Abaixo vamos confirmar isso a partir dos exemplos selecionados anteriormente."
      ]
    },
    {
      "cell_type": "code",
      "metadata": {
        "id": "JqIi747dojkf",
        "colab": {
          "base_uri": "https://localhost:8080/",
          "height": 100
        },
        "outputId": "aea5141a-7447-4268-eaa3-40f5b4d09a55"
      },
      "source": [
        "# verificando o primeiro exemplo\n",
        "df[df['id'] == 6021501535]"
      ],
      "execution_count": 8,
      "outputs": [
        {
          "output_type": "execute_result",
          "data": {
            "text/html": [
              "<div>\n",
              "<style scoped>\n",
              "    .dataframe tbody tr th:only-of-type {\n",
              "        vertical-align: middle;\n",
              "    }\n",
              "\n",
              "    .dataframe tbody tr th {\n",
              "        vertical-align: top;\n",
              "    }\n",
              "\n",
              "    .dataframe thead th {\n",
              "        text-align: right;\n",
              "    }\n",
              "</style>\n",
              "<table border=\"1\" class=\"dataframe\">\n",
              "  <thead>\n",
              "    <tr style=\"text-align: right;\">\n",
              "      <th></th>\n",
              "      <th>id</th>\n",
              "      <th>date</th>\n",
              "      <th>price</th>\n",
              "      <th>bedrooms</th>\n",
              "      <th>bathrooms</th>\n",
              "      <th>sqft_living</th>\n",
              "      <th>sqft_lot</th>\n",
              "      <th>floors</th>\n",
              "      <th>waterfront</th>\n",
              "      <th>view</th>\n",
              "      <th>condition</th>\n",
              "      <th>grade</th>\n",
              "      <th>sqft_above</th>\n",
              "      <th>sqft_basement</th>\n",
              "      <th>yr_built</th>\n",
              "      <th>yr_renovated</th>\n",
              "      <th>zipcode</th>\n",
              "      <th>lat</th>\n",
              "      <th>long</th>\n",
              "      <th>sqft_living15</th>\n",
              "      <th>sqft_lot15</th>\n",
              "    </tr>\n",
              "  </thead>\n",
              "  <tbody>\n",
              "    <tr>\n",
              "      <th>94</th>\n",
              "      <td>6021501535</td>\n",
              "      <td>20141223T000000</td>\n",
              "      <td>700000.0</td>\n",
              "      <td>3</td>\n",
              "      <td>1.5</td>\n",
              "      <td>1580</td>\n",
              "      <td>5000</td>\n",
              "      <td>1.0</td>\n",
              "      <td>0</td>\n",
              "      <td>0</td>\n",
              "      <td>3</td>\n",
              "      <td>8</td>\n",
              "      <td>1290</td>\n",
              "      <td>290</td>\n",
              "      <td>1939</td>\n",
              "      <td>0</td>\n",
              "      <td>98117</td>\n",
              "      <td>47.687</td>\n",
              "      <td>-122.386</td>\n",
              "      <td>1570</td>\n",
              "      <td>4500</td>\n",
              "    </tr>\n",
              "  </tbody>\n",
              "</table>\n",
              "</div>"
            ],
            "text/plain": [
              "            id             date     price  ...     long  sqft_living15  sqft_lot15\n",
              "94  6021501535  20141223T000000  700000.0  ... -122.386           1570        4500\n",
              "\n",
              "[1 rows x 21 columns]"
            ]
          },
          "metadata": {
            "tags": []
          },
          "execution_count": 8
        }
      ]
    },
    {
      "cell_type": "code",
      "metadata": {
        "id": "HEKAB8N1pBJn",
        "colab": {
          "base_uri": "https://localhost:8080/",
          "height": 100
        },
        "outputId": "c8353f5d-5ff9-4e4d-a324-1c4149a02a09"
      },
      "source": [
        "# verificando o segundo exemplo\n",
        "df[df['id'] == 3969300030]"
      ],
      "execution_count": 9,
      "outputs": [
        {
          "output_type": "execute_result",
          "data": {
            "text/html": [
              "<div>\n",
              "<style scoped>\n",
              "    .dataframe tbody tr th:only-of-type {\n",
              "        vertical-align: middle;\n",
              "    }\n",
              "\n",
              "    .dataframe tbody tr th {\n",
              "        vertical-align: top;\n",
              "    }\n",
              "\n",
              "    .dataframe thead th {\n",
              "        text-align: right;\n",
              "    }\n",
              "</style>\n",
              "<table border=\"1\" class=\"dataframe\">\n",
              "  <thead>\n",
              "    <tr style=\"text-align: right;\">\n",
              "      <th></th>\n",
              "      <th>id</th>\n",
              "      <th>date</th>\n",
              "      <th>price</th>\n",
              "      <th>bedrooms</th>\n",
              "      <th>bathrooms</th>\n",
              "      <th>sqft_living</th>\n",
              "      <th>sqft_lot</th>\n",
              "      <th>floors</th>\n",
              "      <th>waterfront</th>\n",
              "      <th>view</th>\n",
              "      <th>condition</th>\n",
              "      <th>grade</th>\n",
              "      <th>sqft_above</th>\n",
              "      <th>sqft_basement</th>\n",
              "      <th>yr_built</th>\n",
              "      <th>yr_renovated</th>\n",
              "      <th>zipcode</th>\n",
              "      <th>lat</th>\n",
              "      <th>long</th>\n",
              "      <th>sqft_living15</th>\n",
              "      <th>sqft_lot15</th>\n",
              "    </tr>\n",
              "  </thead>\n",
              "  <tbody>\n",
              "    <tr>\n",
              "      <th>346</th>\n",
              "      <td>3969300030</td>\n",
              "      <td>20141229T000000</td>\n",
              "      <td>239900.0</td>\n",
              "      <td>4</td>\n",
              "      <td>1.0</td>\n",
              "      <td>1000</td>\n",
              "      <td>7134</td>\n",
              "      <td>1.0</td>\n",
              "      <td>0</td>\n",
              "      <td>0</td>\n",
              "      <td>3</td>\n",
              "      <td>6</td>\n",
              "      <td>1000</td>\n",
              "      <td>0</td>\n",
              "      <td>1943</td>\n",
              "      <td>0</td>\n",
              "      <td>98178</td>\n",
              "      <td>47.4897</td>\n",
              "      <td>-122.24</td>\n",
              "      <td>1020</td>\n",
              "      <td>7138</td>\n",
              "    </tr>\n",
              "  </tbody>\n",
              "</table>\n",
              "</div>"
            ],
            "text/plain": [
              "             id             date     price  ...    long  sqft_living15  sqft_lot15\n",
              "346  3969300030  20141229T000000  239900.0  ... -122.24           1020        7138\n",
              "\n",
              "[1 rows x 21 columns]"
            ]
          },
          "metadata": {
            "tags": []
          },
          "execution_count": 9
        }
      ]
    },
    {
      "cell_type": "markdown",
      "metadata": {
        "id": "YGoU6K4w0hQR"
      },
      "source": [
        "Após essa limpeza inicial dos dados, vamos responder alguns questionamentos."
      ]
    },
    {
      "cell_type": "markdown",
      "metadata": {
        "id": "CpkIup5Jz-R0"
      },
      "source": [
        "# Respondendo questões de negócio"
      ]
    },
    {
      "cell_type": "markdown",
      "metadata": {
        "id": "zYQL63_bilII"
      },
      "source": [
        "## Q1: Quantas casas estão disponíveis para compra?"
      ]
    },
    {
      "cell_type": "markdown",
      "metadata": {
        "id": "Oj6ztWgs0t7j"
      },
      "source": [
        "Com a remoção dos valores duplicados, os `id` agora são únicos e, portanto, descobrindo a quantidade de linhas, é possível determinar a quantidade de casas que estão disponíveis para compra."
      ]
    },
    {
      "cell_type": "code",
      "metadata": {
        "id": "en-z0qxYppXO",
        "colab": {
          "base_uri": "https://localhost:8080/"
        },
        "outputId": "0d2db28e-e199-4bc9-d61f-e4673f747523"
      },
      "source": [
        "# verificando a quantidade de linhas\n",
        "df.shape[0]"
      ],
      "execution_count": 10,
      "outputs": [
        {
          "output_type": "execute_result",
          "data": {
            "text/plain": [
              "21436"
            ]
          },
          "metadata": {
            "tags": []
          },
          "execution_count": 10
        }
      ]
    },
    {
      "cell_type": "markdown",
      "metadata": {
        "id": "KXLShuLnpt8B"
      },
      "source": [
        "**Resposta**: Existem 21.436 imóveis disponíveis para compra."
      ]
    },
    {
      "cell_type": "markdown",
      "metadata": {
        "id": "hpYD0ch8ilSA"
      },
      "source": [
        "## Q2: Quantos atributos as casas possuem?"
      ]
    },
    {
      "cell_type": "code",
      "metadata": {
        "id": "heoCkbEgp0DE",
        "colab": {
          "base_uri": "https://localhost:8080/"
        },
        "outputId": "b5ec9fb4-692e-438f-be18-201295d9cdf5"
      },
      "source": [
        "# verificando a quantidade de colunas\n",
        "df.shape[1]"
      ],
      "execution_count": 11,
      "outputs": [
        {
          "output_type": "execute_result",
          "data": {
            "text/plain": [
              "21"
            ]
          },
          "metadata": {
            "tags": []
          },
          "execution_count": 11
        }
      ]
    },
    {
      "cell_type": "markdown",
      "metadata": {
        "id": "BGd87KJkp228"
      },
      "source": [
        "**Respostas**: Os imóveis possuem 21 atributos."
      ]
    },
    {
      "cell_type": "markdown",
      "metadata": {
        "id": "jPyTdFHTild0"
      },
      "source": [
        "## Q3: Quais são os atributos das casas?"
      ]
    },
    {
      "cell_type": "code",
      "metadata": {
        "id": "dHS5Fru4p-up",
        "colab": {
          "base_uri": "https://localhost:8080/"
        },
        "outputId": "9f8f0a8d-a8d8-41cc-872a-892486e1e229"
      },
      "source": [
        "# verificando o nome das colunas\n",
        "df.columns"
      ],
      "execution_count": 12,
      "outputs": [
        {
          "output_type": "execute_result",
          "data": {
            "text/plain": [
              "Index(['id', 'date', 'price', 'bedrooms', 'bathrooms', 'sqft_living',\n",
              "       'sqft_lot', 'floors', 'waterfront', 'view', 'condition', 'grade',\n",
              "       'sqft_above', 'sqft_basement', 'yr_built', 'yr_renovated', 'zipcode',\n",
              "       'lat', 'long', 'sqft_living15', 'sqft_lot15'],\n",
              "      dtype='object')"
            ]
          },
          "metadata": {
            "tags": []
          },
          "execution_count": 12
        }
      ]
    },
    {
      "cell_type": "markdown",
      "metadata": {
        "id": "XZg7eV3PqBRG"
      },
      "source": [
        "**Resposta**: Os 21 atributos dos imóveis são: id, data de venda, preço de venda, número de quartos e de banheiros, metragem em pés da área interna e da área externa, a quantidade de andares, se tem ou não vista para o mar, a qualidade da vista do imóvel, a condição de conservação do imóvel, a qualidade da construção e do design, a metragem em pés do espaço interno acima e abaixo do nível do solo, ano de construção e da última reforma, CEP, latitude, longitude e metragem em pés das áreas internas e externas dos 15 vizinhos mais próximos."
      ]
    },
    {
      "cell_type": "markdown",
      "metadata": {
        "id": "YmIAL4F6ilkW"
      },
      "source": [
        "## Q4: Qual a casa mais cara (casa com o maior valor de venda)?"
      ]
    },
    {
      "cell_type": "code",
      "metadata": {
        "id": "p3S71AuFrDfh",
        "colab": {
          "base_uri": "https://localhost:8080/",
          "height": 131
        },
        "outputId": "cf153448-ec81-4f1e-910f-2f971a19de09"
      },
      "source": [
        "# ordenando o preço de maneira decrescente e mostrando os 2 primeiros registros\n",
        "df.sort_values('price', ascending=False).head(2)"
      ],
      "execution_count": 13,
      "outputs": [
        {
          "output_type": "execute_result",
          "data": {
            "text/html": [
              "<div>\n",
              "<style scoped>\n",
              "    .dataframe tbody tr th:only-of-type {\n",
              "        vertical-align: middle;\n",
              "    }\n",
              "\n",
              "    .dataframe tbody tr th {\n",
              "        vertical-align: top;\n",
              "    }\n",
              "\n",
              "    .dataframe thead th {\n",
              "        text-align: right;\n",
              "    }\n",
              "</style>\n",
              "<table border=\"1\" class=\"dataframe\">\n",
              "  <thead>\n",
              "    <tr style=\"text-align: right;\">\n",
              "      <th></th>\n",
              "      <th>id</th>\n",
              "      <th>date</th>\n",
              "      <th>price</th>\n",
              "      <th>bedrooms</th>\n",
              "      <th>bathrooms</th>\n",
              "      <th>sqft_living</th>\n",
              "      <th>sqft_lot</th>\n",
              "      <th>floors</th>\n",
              "      <th>waterfront</th>\n",
              "      <th>view</th>\n",
              "      <th>condition</th>\n",
              "      <th>grade</th>\n",
              "      <th>sqft_above</th>\n",
              "      <th>sqft_basement</th>\n",
              "      <th>yr_built</th>\n",
              "      <th>yr_renovated</th>\n",
              "      <th>zipcode</th>\n",
              "      <th>lat</th>\n",
              "      <th>long</th>\n",
              "      <th>sqft_living15</th>\n",
              "      <th>sqft_lot15</th>\n",
              "    </tr>\n",
              "  </thead>\n",
              "  <tbody>\n",
              "    <tr>\n",
              "      <th>7252</th>\n",
              "      <td>6762700020</td>\n",
              "      <td>20141013T000000</td>\n",
              "      <td>7700000.0</td>\n",
              "      <td>6</td>\n",
              "      <td>8.0</td>\n",
              "      <td>12050</td>\n",
              "      <td>27600</td>\n",
              "      <td>2.5</td>\n",
              "      <td>0</td>\n",
              "      <td>3</td>\n",
              "      <td>4</td>\n",
              "      <td>13</td>\n",
              "      <td>8570</td>\n",
              "      <td>3480</td>\n",
              "      <td>1910</td>\n",
              "      <td>1987</td>\n",
              "      <td>98102</td>\n",
              "      <td>47.6298</td>\n",
              "      <td>-122.323</td>\n",
              "      <td>3940</td>\n",
              "      <td>8800</td>\n",
              "    </tr>\n",
              "    <tr>\n",
              "      <th>3914</th>\n",
              "      <td>9808700762</td>\n",
              "      <td>20140611T000000</td>\n",
              "      <td>7062500.0</td>\n",
              "      <td>5</td>\n",
              "      <td>4.5</td>\n",
              "      <td>10040</td>\n",
              "      <td>37325</td>\n",
              "      <td>2.0</td>\n",
              "      <td>1</td>\n",
              "      <td>2</td>\n",
              "      <td>3</td>\n",
              "      <td>11</td>\n",
              "      <td>7680</td>\n",
              "      <td>2360</td>\n",
              "      <td>1940</td>\n",
              "      <td>2001</td>\n",
              "      <td>98004</td>\n",
              "      <td>47.6500</td>\n",
              "      <td>-122.214</td>\n",
              "      <td>3930</td>\n",
              "      <td>25449</td>\n",
              "    </tr>\n",
              "  </tbody>\n",
              "</table>\n",
              "</div>"
            ],
            "text/plain": [
              "              id             date  ...  sqft_living15  sqft_lot15\n",
              "7252  6762700020  20141013T000000  ...           3940        8800\n",
              "3914  9808700762  20140611T000000  ...           3930       25449\n",
              "\n",
              "[2 rows x 21 columns]"
            ]
          },
          "metadata": {
            "tags": []
          },
          "execution_count": 13
        }
      ]
    },
    {
      "cell_type": "markdown",
      "metadata": {
        "id": "_TcA7MxArmsq"
      },
      "source": [
        "**Resposta**: A casa mais cara é a 6762700020, custando $ 7.700.000,00."
      ]
    },
    {
      "cell_type": "markdown",
      "metadata": {
        "id": "S--ihlh2ilpx"
      },
      "source": [
        "## Q5: Qual a casa com o maior número de quartos?"
      ]
    },
    {
      "cell_type": "code",
      "metadata": {
        "id": "5lg1D24PryHu",
        "colab": {
          "base_uri": "https://localhost:8080/",
          "height": 131
        },
        "outputId": "7d3f3d94-0c5a-440f-cee0-6c986dfbf725"
      },
      "source": [
        "# ordenando o número de quartos de maneira decrescente e mostrando os 2 primeiros registros\n",
        "df.sort_values('bedrooms', ascending=False).head(2)"
      ],
      "execution_count": 14,
      "outputs": [
        {
          "output_type": "execute_result",
          "data": {
            "text/html": [
              "<div>\n",
              "<style scoped>\n",
              "    .dataframe tbody tr th:only-of-type {\n",
              "        vertical-align: middle;\n",
              "    }\n",
              "\n",
              "    .dataframe tbody tr th {\n",
              "        vertical-align: top;\n",
              "    }\n",
              "\n",
              "    .dataframe thead th {\n",
              "        text-align: right;\n",
              "    }\n",
              "</style>\n",
              "<table border=\"1\" class=\"dataframe\">\n",
              "  <thead>\n",
              "    <tr style=\"text-align: right;\">\n",
              "      <th></th>\n",
              "      <th>id</th>\n",
              "      <th>date</th>\n",
              "      <th>price</th>\n",
              "      <th>bedrooms</th>\n",
              "      <th>bathrooms</th>\n",
              "      <th>sqft_living</th>\n",
              "      <th>sqft_lot</th>\n",
              "      <th>floors</th>\n",
              "      <th>waterfront</th>\n",
              "      <th>view</th>\n",
              "      <th>condition</th>\n",
              "      <th>grade</th>\n",
              "      <th>sqft_above</th>\n",
              "      <th>sqft_basement</th>\n",
              "      <th>yr_built</th>\n",
              "      <th>yr_renovated</th>\n",
              "      <th>zipcode</th>\n",
              "      <th>lat</th>\n",
              "      <th>long</th>\n",
              "      <th>sqft_living15</th>\n",
              "      <th>sqft_lot15</th>\n",
              "    </tr>\n",
              "  </thead>\n",
              "  <tbody>\n",
              "    <tr>\n",
              "      <th>15870</th>\n",
              "      <td>2402100895</td>\n",
              "      <td>20140625T000000</td>\n",
              "      <td>640000.0</td>\n",
              "      <td>33</td>\n",
              "      <td>1.75</td>\n",
              "      <td>1620</td>\n",
              "      <td>6000</td>\n",
              "      <td>1.0</td>\n",
              "      <td>0</td>\n",
              "      <td>0</td>\n",
              "      <td>5</td>\n",
              "      <td>7</td>\n",
              "      <td>1040</td>\n",
              "      <td>580</td>\n",
              "      <td>1947</td>\n",
              "      <td>0</td>\n",
              "      <td>98103</td>\n",
              "      <td>47.6878</td>\n",
              "      <td>-122.331</td>\n",
              "      <td>1330</td>\n",
              "      <td>4700</td>\n",
              "    </tr>\n",
              "    <tr>\n",
              "      <th>8757</th>\n",
              "      <td>1773100755</td>\n",
              "      <td>20140821T000000</td>\n",
              "      <td>520000.0</td>\n",
              "      <td>11</td>\n",
              "      <td>3.00</td>\n",
              "      <td>3000</td>\n",
              "      <td>4960</td>\n",
              "      <td>2.0</td>\n",
              "      <td>0</td>\n",
              "      <td>0</td>\n",
              "      <td>3</td>\n",
              "      <td>7</td>\n",
              "      <td>2400</td>\n",
              "      <td>600</td>\n",
              "      <td>1918</td>\n",
              "      <td>1999</td>\n",
              "      <td>98106</td>\n",
              "      <td>47.5560</td>\n",
              "      <td>-122.363</td>\n",
              "      <td>1420</td>\n",
              "      <td>4960</td>\n",
              "    </tr>\n",
              "  </tbody>\n",
              "</table>\n",
              "</div>"
            ],
            "text/plain": [
              "               id             date  ...  sqft_living15  sqft_lot15\n",
              "15870  2402100895  20140625T000000  ...           1330        4700\n",
              "8757   1773100755  20140821T000000  ...           1420        4960\n",
              "\n",
              "[2 rows x 21 columns]"
            ]
          },
          "metadata": {
            "tags": []
          },
          "execution_count": 14
        }
      ]
    },
    {
      "cell_type": "markdown",
      "metadata": {
        "id": "O2yu98y0sjmz"
      },
      "source": [
        "**Resposta**: A casa com o maior número de quartos é a 2402100895, com 33 quartos.\n",
        "\n",
        "Aqui é possível verificar que, embora o número de quartos seja alto, o preço, principalmente se comparado à casa mais cara, é bem baixo. Isso pode significar que esse dado é um outlier, ou seja, difere muito do restante da base de dados."
      ]
    },
    {
      "cell_type": "markdown",
      "metadata": {
        "id": "x9h1ygV8ilvK"
      },
      "source": [
        "## Q6: Qual a soma total de quartos do conjunto de dados?"
      ]
    },
    {
      "cell_type": "code",
      "metadata": {
        "id": "Bw8rccvCs-2Z",
        "colab": {
          "base_uri": "https://localhost:8080/"
        },
        "outputId": "09a03cfd-cc14-4cb1-ed92-a9d731fd62ef"
      },
      "source": [
        "# somando a quantidade total de quartos\n",
        "df['bedrooms'].sum()"
      ],
      "execution_count": 15,
      "outputs": [
        {
          "output_type": "execute_result",
          "data": {
            "text/plain": [
              "72273"
            ]
          },
          "metadata": {
            "tags": []
          },
          "execution_count": 15
        }
      ]
    },
    {
      "cell_type": "markdown",
      "metadata": {
        "id": "DtHL3O-MtF7I"
      },
      "source": [
        "**Resposta**: A soma total de quartos do conjunto de dados é 72.273."
      ]
    },
    {
      "cell_type": "markdown",
      "metadata": {
        "id": "02iv_GpKil04"
      },
      "source": [
        "## Q7: Quantas casas possuem 2 banheiros?"
      ]
    },
    {
      "cell_type": "code",
      "metadata": {
        "id": "H_LJeLuDtL_R",
        "colab": {
          "base_uri": "https://localhost:8080/"
        },
        "outputId": "cf161563-cdd5-4bba-9fa0-1ac492f9be21"
      },
      "source": [
        "# verificando quantas casas possuem 2 banheiros\n",
        "df.loc[df['bathrooms'] == 2].shape[0]"
      ],
      "execution_count": 16,
      "outputs": [
        {
          "output_type": "execute_result",
          "data": {
            "text/plain": [
              "1913"
            ]
          },
          "metadata": {
            "tags": []
          },
          "execution_count": 16
        }
      ]
    },
    {
      "cell_type": "markdown",
      "metadata": {
        "id": "2s5wB942tbba"
      },
      "source": [
        "**Resposta**: 1.913 imóveis possuem dois banheiros."
      ]
    },
    {
      "cell_type": "markdown",
      "metadata": {
        "id": "p9cwbC9Dil65"
      },
      "source": [
        "## Q8: Qual o preço médio de todas as casas no conjunto de dados?"
      ]
    },
    {
      "cell_type": "code",
      "metadata": {
        "id": "L0KFzkMVtjl6",
        "colab": {
          "base_uri": "https://localhost:8080/"
        },
        "outputId": "aca53391-22c5-4fb9-f28f-83779f06a638"
      },
      "source": [
        "# verificando a média dos preços\n",
        "df['price'].mean()"
      ],
      "execution_count": 17,
      "outputs": [
        {
          "output_type": "execute_result",
          "data": {
            "text/plain": [
              "541649.962726255"
            ]
          },
          "metadata": {
            "tags": []
          },
          "execution_count": 17
        }
      ]
    },
    {
      "cell_type": "markdown",
      "metadata": {
        "id": "iJPszjR4tm3H"
      },
      "source": [
        "**Resposta**: O preço médio de todos os imóveis do conjunto de dados é $ 541.649,96."
      ]
    },
    {
      "cell_type": "markdown",
      "metadata": {
        "id": "rJVZhllUimBc"
      },
      "source": [
        "## Q9: Qual o preço médio de casas com 2 banheiros?"
      ]
    },
    {
      "cell_type": "code",
      "metadata": {
        "id": "tVRSB2LEtxFf",
        "colab": {
          "base_uri": "https://localhost:8080/"
        },
        "outputId": "65d59cd4-a3f0-434e-9a69-040c428bde7b"
      },
      "source": [
        "# verificando o preço médio das casas com 2 banheiros\n",
        "df[['price', 'bathrooms']].loc[df['bathrooms'] == 2].mean()"
      ],
      "execution_count": 18,
      "outputs": [
        {
          "output_type": "execute_result",
          "data": {
            "text/plain": [
              "price        459307.013591\n",
              "bathrooms         2.000000\n",
              "dtype: float64"
            ]
          },
          "metadata": {
            "tags": []
          },
          "execution_count": 18
        }
      ]
    },
    {
      "cell_type": "markdown",
      "metadata": {
        "id": "8rflavCIt6Ll"
      },
      "source": [
        "**Resposta**: O preço médio dos imóveis com 2 banheiros é $ 459.307,01."
      ]
    },
    {
      "cell_type": "markdown",
      "metadata": {
        "id": "o6Jwjpo2imH2"
      },
      "source": [
        "## Q10: Qual o preço mínimo entre as casas com 3 quartos?"
      ]
    },
    {
      "cell_type": "code",
      "metadata": {
        "id": "X9T6iaizuBwa",
        "colab": {
          "base_uri": "https://localhost:8080/"
        },
        "outputId": "7f8168d6-1d57-416b-8df3-6bed5e146def"
      },
      "source": [
        "# verificando o preço mínimo entre as casas com 3 quartos\n",
        "df[['price', 'bedrooms']].loc[df['bedrooms'] == 3].min()"
      ],
      "execution_count": 19,
      "outputs": [
        {
          "output_type": "execute_result",
          "data": {
            "text/plain": [
              "price       89000.0\n",
              "bedrooms        3.0\n",
              "dtype: float64"
            ]
          },
          "metadata": {
            "tags": []
          },
          "execution_count": 19
        }
      ]
    },
    {
      "cell_type": "markdown",
      "metadata": {
        "id": "7p2y2EcyuHx8"
      },
      "source": [
        "**Resposta**: O preço mínimo entre as casas com 3 quartos é $ 89.000,00."
      ]
    },
    {
      "cell_type": "markdown",
      "metadata": {
        "id": "36780beWjn3J"
      },
      "source": [
        "## Q11: Quantas casas possuem mais de 300 metros quadrados de sala de estar?"
      ]
    },
    {
      "cell_type": "markdown",
      "metadata": {
        "id": "pyzSibNTuTwF"
      },
      "source": [
        "Para responder essa questão, será necessário fazer a conversão de pés para metros quadrados, bastando, para tanto, realizar a multiplicação por 0.0929."
      ]
    },
    {
      "cell_type": "code",
      "metadata": {
        "id": "rZDzoDn9xaqN",
        "colab": {
          "base_uri": "https://localhost:8080/",
          "height": 224
        },
        "outputId": "e2bdd447-ea5d-4a55-fdf8-8205a8518bcc"
      },
      "source": [
        "# criando uma nova coluna para receber a conversão\n",
        "df['m2_living'] = df['sqft_living'] * 0.0929\n",
        "\n",
        "# verificando o resultado\n",
        "df.head()"
      ],
      "execution_count": 20,
      "outputs": [
        {
          "output_type": "execute_result",
          "data": {
            "text/html": [
              "<div>\n",
              "<style scoped>\n",
              "    .dataframe tbody tr th:only-of-type {\n",
              "        vertical-align: middle;\n",
              "    }\n",
              "\n",
              "    .dataframe tbody tr th {\n",
              "        vertical-align: top;\n",
              "    }\n",
              "\n",
              "    .dataframe thead th {\n",
              "        text-align: right;\n",
              "    }\n",
              "</style>\n",
              "<table border=\"1\" class=\"dataframe\">\n",
              "  <thead>\n",
              "    <tr style=\"text-align: right;\">\n",
              "      <th></th>\n",
              "      <th>id</th>\n",
              "      <th>date</th>\n",
              "      <th>price</th>\n",
              "      <th>bedrooms</th>\n",
              "      <th>bathrooms</th>\n",
              "      <th>sqft_living</th>\n",
              "      <th>sqft_lot</th>\n",
              "      <th>floors</th>\n",
              "      <th>waterfront</th>\n",
              "      <th>view</th>\n",
              "      <th>condition</th>\n",
              "      <th>grade</th>\n",
              "      <th>sqft_above</th>\n",
              "      <th>sqft_basement</th>\n",
              "      <th>yr_built</th>\n",
              "      <th>yr_renovated</th>\n",
              "      <th>zipcode</th>\n",
              "      <th>lat</th>\n",
              "      <th>long</th>\n",
              "      <th>sqft_living15</th>\n",
              "      <th>sqft_lot15</th>\n",
              "      <th>m2_living</th>\n",
              "    </tr>\n",
              "  </thead>\n",
              "  <tbody>\n",
              "    <tr>\n",
              "      <th>0</th>\n",
              "      <td>7129300520</td>\n",
              "      <td>20141013T000000</td>\n",
              "      <td>221900.0</td>\n",
              "      <td>3</td>\n",
              "      <td>1.00</td>\n",
              "      <td>1180</td>\n",
              "      <td>5650</td>\n",
              "      <td>1.0</td>\n",
              "      <td>0</td>\n",
              "      <td>0</td>\n",
              "      <td>3</td>\n",
              "      <td>7</td>\n",
              "      <td>1180</td>\n",
              "      <td>0</td>\n",
              "      <td>1955</td>\n",
              "      <td>0</td>\n",
              "      <td>98178</td>\n",
              "      <td>47.5112</td>\n",
              "      <td>-122.257</td>\n",
              "      <td>1340</td>\n",
              "      <td>5650</td>\n",
              "      <td>109.622</td>\n",
              "    </tr>\n",
              "    <tr>\n",
              "      <th>1</th>\n",
              "      <td>6414100192</td>\n",
              "      <td>20141209T000000</td>\n",
              "      <td>538000.0</td>\n",
              "      <td>3</td>\n",
              "      <td>2.25</td>\n",
              "      <td>2570</td>\n",
              "      <td>7242</td>\n",
              "      <td>2.0</td>\n",
              "      <td>0</td>\n",
              "      <td>0</td>\n",
              "      <td>3</td>\n",
              "      <td>7</td>\n",
              "      <td>2170</td>\n",
              "      <td>400</td>\n",
              "      <td>1951</td>\n",
              "      <td>1991</td>\n",
              "      <td>98125</td>\n",
              "      <td>47.7210</td>\n",
              "      <td>-122.319</td>\n",
              "      <td>1690</td>\n",
              "      <td>7639</td>\n",
              "      <td>238.753</td>\n",
              "    </tr>\n",
              "    <tr>\n",
              "      <th>2</th>\n",
              "      <td>5631500400</td>\n",
              "      <td>20150225T000000</td>\n",
              "      <td>180000.0</td>\n",
              "      <td>2</td>\n",
              "      <td>1.00</td>\n",
              "      <td>770</td>\n",
              "      <td>10000</td>\n",
              "      <td>1.0</td>\n",
              "      <td>0</td>\n",
              "      <td>0</td>\n",
              "      <td>3</td>\n",
              "      <td>6</td>\n",
              "      <td>770</td>\n",
              "      <td>0</td>\n",
              "      <td>1933</td>\n",
              "      <td>0</td>\n",
              "      <td>98028</td>\n",
              "      <td>47.7379</td>\n",
              "      <td>-122.233</td>\n",
              "      <td>2720</td>\n",
              "      <td>8062</td>\n",
              "      <td>71.533</td>\n",
              "    </tr>\n",
              "    <tr>\n",
              "      <th>3</th>\n",
              "      <td>2487200875</td>\n",
              "      <td>20141209T000000</td>\n",
              "      <td>604000.0</td>\n",
              "      <td>4</td>\n",
              "      <td>3.00</td>\n",
              "      <td>1960</td>\n",
              "      <td>5000</td>\n",
              "      <td>1.0</td>\n",
              "      <td>0</td>\n",
              "      <td>0</td>\n",
              "      <td>5</td>\n",
              "      <td>7</td>\n",
              "      <td>1050</td>\n",
              "      <td>910</td>\n",
              "      <td>1965</td>\n",
              "      <td>0</td>\n",
              "      <td>98136</td>\n",
              "      <td>47.5208</td>\n",
              "      <td>-122.393</td>\n",
              "      <td>1360</td>\n",
              "      <td>5000</td>\n",
              "      <td>182.084</td>\n",
              "    </tr>\n",
              "    <tr>\n",
              "      <th>4</th>\n",
              "      <td>1954400510</td>\n",
              "      <td>20150218T000000</td>\n",
              "      <td>510000.0</td>\n",
              "      <td>3</td>\n",
              "      <td>2.00</td>\n",
              "      <td>1680</td>\n",
              "      <td>8080</td>\n",
              "      <td>1.0</td>\n",
              "      <td>0</td>\n",
              "      <td>0</td>\n",
              "      <td>3</td>\n",
              "      <td>8</td>\n",
              "      <td>1680</td>\n",
              "      <td>0</td>\n",
              "      <td>1987</td>\n",
              "      <td>0</td>\n",
              "      <td>98074</td>\n",
              "      <td>47.6168</td>\n",
              "      <td>-122.045</td>\n",
              "      <td>1800</td>\n",
              "      <td>7503</td>\n",
              "      <td>156.072</td>\n",
              "    </tr>\n",
              "  </tbody>\n",
              "</table>\n",
              "</div>"
            ],
            "text/plain": [
              "           id             date     price  ...  sqft_living15  sqft_lot15  m2_living\n",
              "0  7129300520  20141013T000000  221900.0  ...           1340        5650    109.622\n",
              "1  6414100192  20141209T000000  538000.0  ...           1690        7639    238.753\n",
              "2  5631500400  20150225T000000  180000.0  ...           2720        8062     71.533\n",
              "3  2487200875  20141209T000000  604000.0  ...           1360        5000    182.084\n",
              "4  1954400510  20150218T000000  510000.0  ...           1800        7503    156.072\n",
              "\n",
              "[5 rows x 22 columns]"
            ]
          },
          "metadata": {
            "tags": []
          },
          "execution_count": 20
        }
      ]
    },
    {
      "cell_type": "code",
      "metadata": {
        "id": "H-kqzveRx7Sy",
        "colab": {
          "base_uri": "https://localhost:8080/"
        },
        "outputId": "776ca717-ae5a-4083-d9a5-b7c4a462555a"
      },
      "source": [
        "# verificando quantas casas possuem mais de 300 metros quadrados de sala de estar\n",
        "df.loc[df['m2_living'] > 300].shape[0]"
      ],
      "execution_count": 21,
      "outputs": [
        {
          "output_type": "execute_result",
          "data": {
            "text/plain": [
              "2251"
            ]
          },
          "metadata": {
            "tags": []
          },
          "execution_count": 21
        }
      ]
    },
    {
      "cell_type": "markdown",
      "metadata": {
        "id": "EZwAtkCGyaFr"
      },
      "source": [
        "**Resposta**: Existe 2.251 imóveis com mais de 300 metros quadrados de espaço interno."
      ]
    },
    {
      "cell_type": "markdown",
      "metadata": {
        "id": "nY21dWI5jrZU"
      },
      "source": [
        "## Q12: Quantas casas tem mais de 2 andares?"
      ]
    },
    {
      "cell_type": "code",
      "metadata": {
        "id": "m0hYX0DByqHU",
        "colab": {
          "base_uri": "https://localhost:8080/"
        },
        "outputId": "e2543018-79f7-4a7f-9eab-b7c45d81083f"
      },
      "source": [
        "# verificando quantas casas têm mais de 2 andares\n",
        "df.loc[df['floors'] > 2].shape[0]"
      ],
      "execution_count": 22,
      "outputs": [
        {
          "output_type": "execute_result",
          "data": {
            "text/plain": [
              "780"
            ]
          },
          "metadata": {
            "tags": []
          },
          "execution_count": 22
        }
      ]
    },
    {
      "cell_type": "markdown",
      "metadata": {
        "id": "md4F0XRzyzzD"
      },
      "source": [
        "**Resposta**: 780 imóveis possuem mais de 2 andares."
      ]
    },
    {
      "cell_type": "markdown",
      "metadata": {
        "id": "Jp40MI06jurc"
      },
      "source": [
        "## Q13: Quantas casas tem vista para o mar?"
      ]
    },
    {
      "cell_type": "markdown",
      "metadata": {
        "id": "qC-aAg7WrWDn"
      },
      "source": [
        "Nessa base de dados as casas que não têm vista para o mar estão preenchidas com 0 e as que têm, com 1."
      ]
    },
    {
      "cell_type": "code",
      "metadata": {
        "id": "uL8FK3s5y57T",
        "colab": {
          "base_uri": "https://localhost:8080/"
        },
        "outputId": "0ecada08-d310-4359-b4b6-720fc427cb1e"
      },
      "source": [
        "# verificando quantas casas têm vista para o mar\n",
        "df['waterfront'].value_counts()"
      ],
      "execution_count": 23,
      "outputs": [
        {
          "output_type": "execute_result",
          "data": {
            "text/plain": [
              "0    21273\n",
              "1      163\n",
              "Name: waterfront, dtype: int64"
            ]
          },
          "metadata": {
            "tags": []
          },
          "execution_count": 23
        }
      ]
    },
    {
      "cell_type": "markdown",
      "metadata": {
        "id": "FQnEEd6izAAy"
      },
      "source": [
        "**Resposta**: 163 imóveis possuem vista para o mar."
      ]
    },
    {
      "cell_type": "markdown",
      "metadata": {
        "id": "PT6ATPPSjupB"
      },
      "source": [
        "## Q14: Das casas com vista para o mar, quantas tem 3 quartos?"
      ]
    },
    {
      "cell_type": "code",
      "metadata": {
        "id": "Em9AonpBzDdI",
        "colab": {
          "base_uri": "https://localhost:8080/"
        },
        "outputId": "de3e3019-d326-4f66-ba80-071fb0f4a345"
      },
      "source": [
        "# verificando quantas casas com vista para o mar tem 3 quartos\n",
        "df.loc[(df['waterfront'] == 1) & (df['bedrooms'] == 3)].shape[0]"
      ],
      "execution_count": 24,
      "outputs": [
        {
          "output_type": "execute_result",
          "data": {
            "text/plain": [
              "64"
            ]
          },
          "metadata": {
            "tags": []
          },
          "execution_count": 24
        }
      ]
    },
    {
      "cell_type": "markdown",
      "metadata": {
        "id": "gImEmQEkzYEy"
      },
      "source": [
        "**Resposta**: Das casas com vista para o mar, 64 possuem 3 quartos."
      ]
    },
    {
      "cell_type": "markdown",
      "metadata": {
        "id": "9_gZoORejumh"
      },
      "source": [
        "## Q15: Das casas com mais de 300 metros quadrados de sala de estar, quantas tem mais de 2 banheiros?"
      ]
    },
    {
      "cell_type": "code",
      "metadata": {
        "id": "o4TFvOERjpD9",
        "colab": {
          "base_uri": "https://localhost:8080/"
        },
        "outputId": "6366d8e7-f7fa-45ef-8459-d50edb9fc2dd"
      },
      "source": [
        "# verificando quantas casas com mais de 300 metros têm mais de 2 banheiros\n",
        "df.loc[(df['m2_living'] > 300) & (df['bathrooms'] > 2)].shape[0]"
      ],
      "execution_count": 25,
      "outputs": [
        {
          "output_type": "execute_result",
          "data": {
            "text/plain": [
              "2194"
            ]
          },
          "metadata": {
            "tags": []
          },
          "execution_count": 25
        }
      ]
    },
    {
      "cell_type": "markdown",
      "metadata": {
        "id": "IyxyM6XKzq5x"
      },
      "source": [
        "**Resposta**: Das casas com mais de 300 metros quadrados, 2.194 possuem mais de 2 quartos."
      ]
    }
  ]
}